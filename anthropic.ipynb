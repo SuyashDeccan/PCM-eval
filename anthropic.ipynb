{
 "cells": [
  {
   "cell_type": "code",
   "execution_count": 17,
   "id": "733730d0-552e-4e87-8f12-83d4d364e2cc",
   "metadata": {},
   "outputs": [],
   "source": [
    "def generate_prompt(question):\n",
    "    prompt_template = \"\"\"\n",
    "    Answer the following question with a detailed explanation:\n",
    "    Question: {question}\n",
    "    \"\"\"\n",
    "    return prompt_template.format(question=question)"
   ]
  },
  {
   "cell_type": "code",
   "execution_count": 63,
   "id": "4752716a-f93b-405d-99c6-8e1f2f0ec992",
   "metadata": {},
   "outputs": [
    {
     "data": {
      "text/plain": [
       "BetaMessageBatch(id='msgbatch_01QKiHRJLaSHGQ4Mp51z6FmK', archived_at=None, cancel_initiated_at=None, created_at=datetime.datetime(2025, 4, 2, 13, 7, 23, 756800, tzinfo=datetime.timezone.utc), ended_at=None, expires_at=datetime.datetime(2025, 4, 3, 13, 7, 23, 756800, tzinfo=datetime.timezone.utc), processing_status='in_progress', request_counts=BetaMessageBatchRequestCounts(canceled=0, errored=0, expired=0, processing=20, succeeded=0), results_url=None, type='message_batch')"
      ]
     },
     "execution_count": 63,
     "metadata": {},
     "output_type": "execute_result"
    }
   ],
   "source": [
    "import dotenv\n",
    "from anthropic import AsyncAnthropic, RateLimitError, APIError\n",
    "import pandas as pd\n",
    "import os\n",
    "\n",
    "df = pd.read_csv(\"./pending.csv\")[[\"Sub Task Id\", \"User Query\"]]\n",
    "questions = list(df.itertuples(index=False, name=None))\n",
    "\n",
    "dotenv.load_dotenv()\n",
    "client = AsyncAnthropic(api_key=os.environ[\"CLAUDE_KEY\"])\n",
    "await client.beta.messages.batches.create(\n",
    "    requests=[\n",
    "        {\n",
    "            \"custom_id\": str(q_id),\n",
    "            \"params\": {\n",
    "                \"model\": \"claude-3-7-sonnet-latest\",\n",
    "                \"max_tokens\": 16384,\n",
    "                \"thinking\": {\"type\": \"enabled\", \"budget_tokens\": 15000},\n",
    "                \"messages\": [{\"role\": \"user\", \"content\": generate_prompt(question)}],\n",
    "            },\n",
    "        } for q_id, question in questions\n",
    "    ]\n",
    ")"
   ]
  },
  {
   "cell_type": "code",
   "execution_count": 114,
   "id": "f106e365-f13b-4292-895c-715e8840dc59",
   "metadata": {},
   "outputs": [],
   "source": [
    "result_stream = await client.beta.messages.batches.results(\"msgbatch_01QKiHRJLaSHGQ4Mp51z6FmK\")\n",
    "final_responses = {}\n",
    "async for entry in result_stream:\n",
    "    if entry.result.type == \"succeeded\":\n",
    "        q_id = int(entry.custom_id)\n",
    "        for block in entry.result.message.content:\n",
    "            if block.type == \"text\":\n",
    "                response = block.text\n",
    "        final_responses[q_id] = response"
   ]
  },
  {
   "cell_type": "code",
   "execution_count": 116,
   "id": "5a9ab755-b0d7-4289-8a2e-f0f1bf921e91",
   "metadata": {},
   "outputs": [],
   "source": [
    "df[\"Sonnet Response\"] = df[\"Sub Task Id\"].map(final_responses)"
   ]
  },
  {
   "cell_type": "code",
   "execution_count": 118,
   "id": "30f32eec-b85b-45d9-a219-100969da60b6",
   "metadata": {},
   "outputs": [],
   "source": [
    "df.to_csv(\"sonnet.csv\")"
   ]
  }
 ],
 "metadata": {
  "kernelspec": {
   "display_name": "Python 3 (ipykernel)",
   "language": "python",
   "name": "python3"
  },
  "language_info": {
   "codemirror_mode": {
    "name": "ipython",
    "version": 3
   },
   "file_extension": ".py",
   "mimetype": "text/x-python",
   "name": "python",
   "nbconvert_exporter": "python",
   "pygments_lexer": "ipython3",
   "version": "3.10.10"
  }
 },
 "nbformat": 4,
 "nbformat_minor": 5
}
