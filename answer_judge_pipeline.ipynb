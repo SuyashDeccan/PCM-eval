{
 "cells": [
  {
   "cell_type": "markdown",
   "id": "00111b5e",
   "metadata": {},
   "source": [
    "# Note\n",
    "- this notebook takes models outputs from csv file as input .\n",
    "- extracts answer from the responses \n",
    "- uses LLM as a judge ."
   ]
  },
  {
   "cell_type": "markdown",
   "id": "169dac62",
   "metadata": {},
   "source": [
    "### answer extract Module "
   ]
  },
  {
   "cell_type": "code",
   "execution_count": null,
   "id": "f8a587d4",
   "metadata": {
    "vscode": {
     "languageId": "plaintext"
    }
   },
   "outputs": [],
   "source": []
  },
  {
   "cell_type": "markdown",
   "id": "495d78eb",
   "metadata": {},
   "source": []
  }
 ],
 "metadata": {
  "language_info": {
   "name": "python"
  }
 },
 "nbformat": 4,
 "nbformat_minor": 5
}
